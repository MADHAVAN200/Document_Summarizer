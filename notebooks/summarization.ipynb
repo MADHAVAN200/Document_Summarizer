{
 "cells": [
  {
   "cell_type": "code",
   "execution_count": 2,
   "id": "1d8d4818",
   "metadata": {},
   "outputs": [],
   "source": [
    "import sys\n",
    "import os\n",
    "\n",
    "# Adjust the path to the project root accordingly if your notebook is in notebooks/\n",
    "sys.path.append(os.path.abspath(os.path.join(\"..\")))  # Assuming notebooks/ is at root/notebooks/\n",
    "\n",
    "# Now you can import from src\n"
   ]
  },
  {
   "cell_type": "code",
   "execution_count": 3,
   "id": "da282cf3",
   "metadata": {},
   "outputs": [
    {
     "data": {
      "text/plain": [
       "True"
      ]
     },
     "execution_count": 3,
     "metadata": {},
     "output_type": "execute_result"
    }
   ],
   "source": [
    "from langchain.chains.summarize import load_summarize_chain\n",
    "from langchain.llms.base import LLM\n",
    "from langchain.docstore.document import Document\n",
    "from src.summarizer import GroqGemma2LLM, chunk_documents, clean_text  # Adjust import paths as needed\n",
    "\n",
    "import os\n",
    "from dotenv import load_dotenv\n",
    "\n",
    "# Load environment variables\n",
    "load_dotenv()"
   ]
  },
  {
   "cell_type": "code",
   "execution_count": 4,
   "id": "d022b69c",
   "metadata": {},
   "outputs": [
    {
     "name": "stdout",
     "output_type": "stream",
     "text": [
      "Groq API Key loaded: Yes\n"
     ]
    }
   ],
   "source": [
    "GROQ_API_KEY = os.getenv(\"GROQ_API_KEY\")\n",
    "print(\"Groq API Key loaded:\", \"Yes\" if GROQ_API_KEY else \"No\")\n",
    "\n",
    "llm = GroqGemma2LLM(api_key=GROQ_API_KEY)\n"
   ]
  },
  {
   "cell_type": "code",
   "execution_count": 5,
   "id": "020b3439",
   "metadata": {},
   "outputs": [],
   "source": [
    "def summarize_documents(docs: list) -> str:\n",
    "    chain = load_summarize_chain(llm, chain_type=\"map_reduce\")\n",
    "    result = chain.invoke({\"input_documents\": docs})\n",
    "    for key in (\"text\", \"output_text\", \"summary\"):\n",
    "        if key in result:\n",
    "            return result[key]\n",
    "    return str(result)\n"
   ]
  },
  {
   "cell_type": "code",
   "execution_count": 10,
   "id": "d48e3d4f",
   "metadata": {},
   "outputs": [
    {
     "name": "stdout",
     "output_type": "stream",
     "text": [
      "Number of chunks created: 1\n",
      "This Agreement is made effective as of the date first written above by and between Party A and Party B. The parties agree to the following terms and conditions: ... The validity, legality, and enforceability of the remaining provisions shall not be affected or impaired thereby. IN WITNESS WHEREOF, the parties have executed this Agreement.\n"
     ]
    }
   ],
   "source": [
    "# Example sample legal text\n",
    "sample_text = \"\"\"\n",
    "This Agreement is made effective as of the date first written above by and between Party A and Party B. The parties agree to the following terms and conditions: ...\n",
    "The validity, legality, and enforceability of the remaining provisions shall not be affected or impaired thereby.\n",
    "IN WITNESS WHEREOF, the parties have executed this Agreement.\n",
    "\n",
    "\"\"\"\n",
    "\n",
    "docs = [Document(page_content=sample_text)]\n",
    "chunks = chunk_documents(docs)\n",
    "print(f\"Number of chunks created: {len(chunks)}\")\n",
    "print(chunks[0].page_content[:500])  # Preview\n"
   ]
  },
  {
   "cell_type": "code",
   "execution_count": 11,
   "id": "62845bfa",
   "metadata": {},
   "outputs": [
    {
     "name": "stdout",
     "output_type": "stream",
     "text": [
      "Summary:\n",
      "\n",
      "This agreement, effective as of the stated date, sets out the terms between Party A and Party B. If any part is deemed invalid, the rest remains enforceable. Both parties have signed to signify their acceptance. \n",
      "\n"
     ]
    }
   ],
   "source": [
    "summary = summarize_documents(chunks)\n",
    "print(\"Summary:\\n\")\n",
    "print(summary)\n"
   ]
  },
  {
   "cell_type": "code",
   "execution_count": null,
   "id": "a07b3b04",
   "metadata": {},
   "outputs": [],
   "source": []
  }
 ],
 "metadata": {
  "kernelspec": {
   "display_name": ".venv",
   "language": "python",
   "name": "python3"
  },
  "language_info": {
   "codemirror_mode": {
    "name": "ipython",
    "version": 3
   },
   "file_extension": ".py",
   "mimetype": "text/x-python",
   "name": "python",
   "nbconvert_exporter": "python",
   "pygments_lexer": "ipython3",
   "version": "3.11.8"
  }
 },
 "nbformat": 4,
 "nbformat_minor": 5
}

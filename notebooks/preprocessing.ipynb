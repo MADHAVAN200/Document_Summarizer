{
 "cells": [
  {
   "cell_type": "code",
   "execution_count": 1,
   "id": "b90417a6",
   "metadata": {},
   "outputs": [],
   "source": [
    "from langchain_community.document_loaders import PyPDFLoader, UnstructuredWordDocumentLoader\n",
    "from langchain.text_splitter import RecursiveCharacterTextSplitter\n",
    "from langchain.docstore.document import Document\n",
    "\n",
    "import ipywidgets as widgets\n",
    "from IPython.display import display\n",
    "import tempfile\n",
    "import os\n",
    "import re\n"
   ]
  },
  {
   "cell_type": "code",
   "execution_count": 2,
   "id": "2c4f86ae",
   "metadata": {},
   "outputs": [
    {
     "data": {
      "application/vnd.jupyter.widget-view+json": {
       "model_id": "c1b1786f152d49469f002f386407cb94",
       "version_major": 2,
       "version_minor": 0
      },
      "text/plain": [
       "RadioButtons(description='Input Type:', options=('Upload PDF/DOCX File', 'Paste Text'), value='Upload PDF/DOCX…"
      ]
     },
     "metadata": {},
     "output_type": "display_data"
    },
    {
     "data": {
      "application/vnd.jupyter.widget-view+json": {
       "model_id": "ba6ca60f61614157ac4077dddce5118c",
       "version_major": 2,
       "version_minor": 0
      },
      "text/plain": [
       "FileUpload(value=(), accept='.pdf,.docx', description='Upload File')"
      ]
     },
     "metadata": {},
     "output_type": "display_data"
    },
    {
     "data": {
      "application/vnd.jupyter.widget-view+json": {
       "model_id": "69d9ff485c51486688ac3e722704b8db",
       "version_major": 2,
       "version_minor": 0
      },
      "text/plain": [
       "Textarea(value='', description='Text Input:', layout=Layout(height='200px', width='100%'), placeholder='Paste …"
      ]
     },
     "metadata": {},
     "output_type": "display_data"
    }
   ],
   "source": [
    "# User input choice\n",
    "input_type = widgets.RadioButtons(\n",
    "    options=[\"Upload PDF/DOCX File\", \"Paste Text\"],\n",
    "    value=\"Upload PDF/DOCX File\",\n",
    "    description=\"Input Type:\",\n",
    ")\n",
    "\n",
    "# File uploader widget accepting PDF and DOCX\n",
    "file_upload = widgets.FileUpload(accept=\".pdf,.docx\", multiple=False, description=\"Upload File\")\n",
    "\n",
    "# Text area for raw legal text input\n",
    "text_input = widgets.Textarea(\n",
    "    value=\"\",\n",
    "    placeholder=\"Paste legal text here...\",\n",
    "    description=\"Text Input:\",\n",
    "    layout=widgets.Layout(width=\"100%\", height=\"200px\"),\n",
    ")\n",
    "\n",
    "# Display widgets based on selection\n",
    "def on_input_type_change(change):\n",
    "    if change['new'] == \"Upload PDF/DOCX File\":\n",
    "        file_upload.layout.display = 'block'\n",
    "        text_input.layout.display = 'none'\n",
    "    else:\n",
    "        file_upload.layout.display = 'none'\n",
    "        text_input.layout.display = 'block'\n",
    "\n",
    "input_type.observe(on_input_type_change, names='value')\n",
    "\n",
    "display(input_type)\n",
    "display(file_upload)\n",
    "display(text_input)\n",
    "\n",
    "# Initialize widget visibility\n",
    "on_input_type_change({'new': input_type.value})\n"
   ]
  },
  {
   "cell_type": "code",
   "execution_count": 7,
   "id": "012a5299",
   "metadata": {},
   "outputs": [],
   "source": [
    "text_splitter = RecursiveCharacterTextSplitter(\n",
    "    chunk_size=1000,\n",
    "    chunk_overlap=100,\n",
    "    length_function=len,\n",
    ")\n",
    "\n",
    "def clean_text(text: str) -> str:\n",
    "    # Normalize whitespace and strip\n",
    "    text = re.sub(r\"\\s+\", \" \", text)\n",
    "    return text.strip()\n",
    "\n",
    "def chunk_documents(docs: list) -> list:\n",
    "    chunks = []\n",
    "    for doc in docs:\n",
    "        splits = text_splitter.split_text(doc.page_content)\n",
    "        chunks.extend(splits)\n",
    "    return [Document(page_content=clean_text(chunk)) for chunk in chunks]\n"
   ]
  },
  {
   "cell_type": "code",
   "execution_count": 8,
   "id": "6595f791",
   "metadata": {},
   "outputs": [],
   "source": [
    "def load_pdf(path):\n",
    "    loader = PyPDFLoader(path)\n",
    "    return loader.load()\n",
    "\n",
    "def load_docx(path):\n",
    "    loader = UnstructuredWordDocumentLoader(path)\n",
    "    return loader.load()\n"
   ]
  },
  {
   "cell_type": "code",
   "execution_count": 9,
   "id": "1a937d70",
   "metadata": {},
   "outputs": [
    {
     "data": {
      "application/vnd.jupyter.widget-view+json": {
       "model_id": "5cbfc52975e04b7188dd1ddc8700e5c3",
       "version_major": 2,
       "version_minor": 0
      },
      "text/plain": [
       "Button(description='Process Input', style=ButtonStyle())"
      ]
     },
     "metadata": {},
     "output_type": "display_data"
    },
    {
     "data": {
      "application/vnd.jupyter.widget-view+json": {
       "model_id": "8d1fdc5749054c38a4870a5d4b2e8058",
       "version_major": 2,
       "version_minor": 0
      },
      "text/plain": [
       "Output()"
      ]
     },
     "metadata": {},
     "output_type": "display_data"
    }
   ],
   "source": [
    "process_button = widgets.Button(description=\"Process Input\")\n",
    "output_area = widgets.Output()\n",
    "\n",
    "display(process_button, output_area)\n",
    "\n",
    "def on_process_clicked(b):\n",
    "    with output_area:\n",
    "        output_area.clear_output()\n",
    "        \n",
    "        # Handle pasted text input\n",
    "        if input_type.value == \"Paste Text\":\n",
    "            user_text = text_input.value.strip()\n",
    "            if not user_text:\n",
    "                print(\"❗ Please enter some text!\")\n",
    "                return\n",
    "            docs = [Document(page_content=user_text)]\n",
    "            chunks = chunk_documents(docs)\n",
    "            print(f\"✅ Processed text into {len(chunks)} chunks.\")\n",
    "            print(chunks[0].page_content[:500])\n",
    "        \n",
    "        # Handle file upload input\n",
    "        else:\n",
    "            if not file_upload.value:\n",
    "                print(\"❗ Please upload a PDF or DOCX file!\")\n",
    "                return\n",
    "            \n",
    "            uploaded_file = next(iter(file_upload.value.values()))\n",
    "            suffix = \".\" + uploaded_file['metadata']['name'].split(\".\")[-1].lower()\n",
    "            \n",
    "            with tempfile.NamedTemporaryFile(delete=False, suffix=suffix) as tmp_file:\n",
    "                tmp_file.write(uploaded_file['content'])\n",
    "                tmp_path = tmp_file.name\n",
    "            \n",
    "            if suffix == \".pdf\":\n",
    "                docs = load_pdf(tmp_path)\n",
    "            elif suffix == \".docx\":\n",
    "                docs = load_docx(tmp_path)\n",
    "            else:\n",
    "                print(\"❌ Unsupported file type!\")\n",
    "                os.remove(tmp_path)\n",
    "                return\n",
    "            \n",
    "            chunks = chunk_documents(docs)\n",
    "            print(f\"✅ Loaded and chunked {len(chunks)} document chunks.\")\n",
    "            print(chunks[0].page_content[:500])\n",
    "            \n",
    "            os.remove(tmp_path)\n",
    "\n",
    "process_button.on_click(on_process_clicked)"
   ]
  },
  {
   "cell_type": "code",
   "execution_count": null,
   "id": "68e8c35f",
   "metadata": {},
   "outputs": [],
   "source": []
  }
 ],
 "metadata": {
  "kernelspec": {
   "display_name": ".venv",
   "language": "python",
   "name": "python3"
  },
  "language_info": {
   "codemirror_mode": {
    "name": "ipython",
    "version": 3
   },
   "file_extension": ".py",
   "mimetype": "text/x-python",
   "name": "python",
   "nbconvert_exporter": "python",
   "pygments_lexer": "ipython3",
   "version": "3.11.8"
  }
 },
 "nbformat": 4,
 "nbformat_minor": 5
}

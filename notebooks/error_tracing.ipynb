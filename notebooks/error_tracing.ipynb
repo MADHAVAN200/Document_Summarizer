{
 "cells": [
  {
   "cell_type": "code",
   "execution_count": 2,
   "id": "ca4483b0",
   "metadata": {},
   "outputs": [],
   "source": [
    "import sys\n",
    "import os\n",
    "\n",
    "# Adjust the path to the project root accordingly if your notebook is in notebooks/\n",
    "sys.path.append(os.path.abspath(os.path.join(\"..\")))  # Assuming notebooks/ is at root/notebooks/\n",
    "\n",
    "# Now you can import from src\n"
   ]
  },
  {
   "cell_type": "code",
   "execution_count": 3,
   "id": "45fd0609",
   "metadata": {},
   "outputs": [
    {
     "name": "stdout",
     "output_type": "stream",
     "text": [
      "Groq API Key loaded: Yes\n"
     ]
    }
   ],
   "source": [
    "import os\n",
    "import traceback\n",
    "from src.summarizer import GroqGemma2LLM, load_pdf_document, load_docx_document, chunk_documents, summarize_documents, clean_text\n",
    "from langchain.docstore.document import Document\n",
    "from dotenv import load_dotenv\n",
    "\n",
    "load_dotenv()\n",
    "\n",
    "GROQ_API_KEY = os.getenv(\"GROQ_API_KEY\")\n",
    "print(\"Groq API Key loaded:\", \"Yes\" if GROQ_API_KEY else \"No\")"
   ]
  },
  {
   "cell_type": "code",
   "execution_count": 4,
   "id": "dbf38201",
   "metadata": {},
   "outputs": [
    {
     "name": "stdout",
     "output_type": "stream",
     "text": [
      "GroqGemma2LLM initialized successfully.\n"
     ]
    }
   ],
   "source": [
    "try:\n",
    "    llm = GroqGemma2LLM(api_key=GROQ_API_KEY)\n",
    "    print(\"GroqGemma2LLM initialized successfully.\")\n",
    "except Exception as e:\n",
    "    print(\"Error initializing GroqGemma2LLM:\")\n",
    "    traceback.print_exc()\n"
   ]
  }
 ],
 "metadata": {
  "kernelspec": {
   "display_name": ".venv",
   "language": "python",
   "name": "python3"
  },
  "language_info": {
   "codemirror_mode": {
    "name": "ipython",
    "version": 3
   },
   "file_extension": ".py",
   "mimetype": "text/x-python",
   "name": "python",
   "nbconvert_exporter": "python",
   "pygments_lexer": "ipython3",
   "version": "3.11.8"
  }
 },
 "nbformat": 4,
 "nbformat_minor": 5
}
